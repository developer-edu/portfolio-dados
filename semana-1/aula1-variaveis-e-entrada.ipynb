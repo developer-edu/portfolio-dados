{
 "cells": [
  {
   "cell_type": "code",
   "execution_count": 35,
   "id": "29645eda",
   "metadata": {},
   "outputs": [],
   "source": [
    "# AULA 1: Variáveis e Entrada de Dados\n",
    "# Nesta aula, exploraremos:\n",
    "# 1. Como usar 'input()' para entrada de dados\n",
    "# 2. Como declarar variáveis\n",
    "# 3. Como converter tidos de dados\n",
    "# 4. Como usar 'print()' com f-strings"
   ]
  },
  {
   "cell_type": "code",
   "execution_count": 36,
   "id": "aad73038",
   "metadata": {},
   "outputs": [
    {
     "name": "stdout",
     "output_type": "stream",
     "text": [
      "Olá, Eduardo!\n",
      "Seja bem-vindo á jornada de Dados.\n"
     ]
    }
   ],
   "source": [
    "print(\"Olá, Eduardo!\")\n",
    "print(\"Seja bem-vindo á jornada de Dados.\")\n"
   ]
  },
  {
   "cell_type": "code",
   "execution_count": 37,
   "id": "c79a879c",
   "metadata": {},
   "outputs": [
    {
     "name": "stdout",
     "output_type": "stream",
     "text": [
      "Nome: Eduardo, Idade: 31, Salário: 2500.0, Casado: True\n"
     ]
    }
   ],
   "source": [
    "nome = \"Eduardo\"\n",
    "idade = 31\n",
    "salario = 2500.00\n",
    "casado = True\n",
    "\n",
    "print(f\"Nome: {nome}, Idade: {idade}, Salário: {salario}, Casado: {casado}\")\n"
   ]
  },
  {
   "cell_type": "code",
   "execution_count": 38,
   "id": "2ffd3c17",
   "metadata": {},
   "outputs": [
    {
     "name": "stdout",
     "output_type": "stream",
     "text": [
      "<class 'str'>\n",
      "<class 'int'>\n",
      "<class 'float'>\n",
      "<class 'bool'>\n"
     ]
    }
   ],
   "source": [
    "print(type(nome)) # <class 'str'>\n",
    "print(type(idade)) # <class \"int\">\n",
    "print(type(salario)) # <class 'float'>\n",
    "print(type(casado)) # <class 'bool'>"
   ]
  },
  {
   "cell_type": "code",
   "execution_count": 39,
   "id": "bc2d2b22",
   "metadata": {},
   "outputs": [
    {
     "name": "stdout",
     "output_type": "stream",
     "text": [
      "Olá, Eduardo\n",
      "Você tem 31 anos.\n",
      "Daqui a 5 anos, você terá 36 anos.\n",
      "Você ganha R$ 2500.00\n"
     ]
    }
   ],
   "source": [
    "nome = input(\"Digite o seu nome: \")\n",
    "idade = int(input(\"Digite a sua idade: \"))\n",
    "salario + float(input(\"Digite seu salário: \"))\n",
    "print(\"Olá,\", nome)\n",
    "print(\"Você tem\", idade, \"anos.\")\n",
    "print(f\"Daqui a 5 anos, você terá {idade + 5} anos.\")\n",
    "print(f\"Você ganha R$ {salario:.2f}\")"
   ]
  },
  {
   "cell_type": "code",
   "execution_count": 40,
   "id": "137c8567",
   "metadata": {},
   "outputs": [
    {
     "name": "stdout",
     "output_type": "stream",
     "text": [
      "Soma: 13\n",
      "Subtração: 30\n",
      "Divisão: 3.3333333333333335\n",
      "Multiplicação: 1000\n",
      "Módulo (resto da divisão): 1\n",
      "Divisão inteira: 3\n",
      "Operações com strings:\n",
      "Eduardo Developer\n",
      "EduardoEduardoEduardo\n"
     ]
    }
   ],
   "source": [
    "a = 10\n",
    "b= 3\n",
    "\n",
    "print(\"Soma:\", a + b)\n",
    "print(\"Subtração:\", a * b)\n",
    "print(\"Divisão:\", a / b)\n",
    "print(\"Multiplicação:\", a ** b)\n",
    "print(\"Módulo (resto da divisão):\", a % b)\n",
    "print(\"Divisão inteira:\", a // b)\n",
    "print(\"Operações com strings:\")\n",
    "print(\"Eduardo\" + \" \" + \"Developer\")\n",
    "print(\"Eduardo\" * 3)\n"
   ]
  },
  {
   "cell_type": "code",
   "execution_count": 41,
   "id": "128ee8d4",
   "metadata": {},
   "outputs": [
    {
     "name": "stdout",
     "output_type": "stream",
     "text": [
      "\n",
      "Olá, Eduardo! Em 2050, você terá 56 anos.\n"
     ]
    }
   ],
   "source": [
    "# Solicitando o nome e idade do usuário\n",
    "nome = input(\"Digite o seu nome: \")\n",
    "# Solicitando a idade do usuário e calculando a idade em 2050\n",
    "idade = int(input(\"Digite a sua idade: \"))\n",
    "idade_2050 = 2050 - (2025 - idade)\n",
    "# Monstrando o resultado final\n",
    "print(f\"\\nOlá, {nome}! Em 2050, você terá { idade_2050} anos.\")"
   ]
  }
 ],
 "metadata": {
  "kernelspec": {
   "display_name": "base",
   "language": "python",
   "name": "python3"
  },
  "language_info": {
   "codemirror_mode": {
    "name": "ipython",
    "version": 3
   },
   "file_extension": ".py",
   "mimetype": "text/x-python",
   "name": "python",
   "nbconvert_exporter": "python",
   "pygments_lexer": "ipython3",
   "version": "3.13.5"
  }
 },
 "nbformat": 4,
 "nbformat_minor": 5
}
