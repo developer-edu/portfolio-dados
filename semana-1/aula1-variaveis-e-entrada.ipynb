{
 "cells": [
  {
   "cell_type": "code",
   "execution_count": 29,
   "id": "aad73038",
   "metadata": {},
   "outputs": [
    {
     "name": "stdout",
     "output_type": "stream",
     "text": [
      "Olá, Eduardo!\n",
      "Seja bem-vindo á jornada de Dados.\n"
     ]
    }
   ],
   "source": [
    "print(\"Olá, Eduardo!\")\n",
    "print(\"Seja bem-vindo á jornada de Dados.\")\n"
   ]
  },
  {
   "cell_type": "code",
   "execution_count": 30,
   "id": "c79a879c",
   "metadata": {},
   "outputs": [
    {
     "name": "stdout",
     "output_type": "stream",
     "text": [
      "Nome: Eduardo, Idade: 31, Salário: 2500.0, Casado: True\n"
     ]
    }
   ],
   "source": [
    "nome = \"Eduardo\"\n",
    "idade = 31\n",
    "salario = 2500.00\n",
    "casado = True\n",
    "\n",
    "print(f\"Nome: {nome}, Idade: {idade}, Salário: {salario}, Casado: {casado}\")\n"
   ]
  },
  {
   "cell_type": "code",
   "execution_count": 31,
   "id": "2ffd3c17",
   "metadata": {},
   "outputs": [
    {
     "name": "stdout",
     "output_type": "stream",
     "text": [
      "<class 'str'>\n",
      "<class 'int'>\n",
      "<class 'float'>\n",
      "<class 'bool'>\n"
     ]
    }
   ],
   "source": [
    "print(type(nome)) # <class 'str'>\n",
    "print(type(idade)) # <class \"int\">\n",
    "print(type(salario)) # <class 'float'>\n",
    "print(type(casado)) # <class 'bool'>"
   ]
  },
  {
   "cell_type": "code",
   "execution_count": 32,
   "id": "bc2d2b22",
   "metadata": {},
   "outputs": [
    {
     "name": "stdout",
     "output_type": "stream",
     "text": [
      "Olá, Eduardo\n",
      "Você tem 31 anos.\n",
      "Daqui a 5 anos, você terá 36 anos.\n",
      "Você ganha R$ 2500.00\n"
     ]
    }
   ],
   "source": [
    "nome = input(\"Digite o seu nome: \")\n",
    "idade = int(input(\"Digite a sua idade: \"))\n",
    "salario + float(input(\"Digite seu salário: \"))\n",
    "print(\"Olá,\", nome)\n",
    "print(\"Você tem\", idade, \"anos.\")\n",
    "print(f\"Daqui a 5 anos, você terá {idade + 5} anos.\")\n",
    "print(f\"Você ganha R$ {salario:.2f}\")"
   ]
  },
  {
   "cell_type": "code",
   "execution_count": 33,
   "id": "137c8567",
   "metadata": {},
   "outputs": [
    {
     "name": "stdout",
     "output_type": "stream",
     "text": [
      "Soma: 13\n",
      "Subtração: 30\n",
      "Divisão: 3.3333333333333335\n",
      "Multiplicação: 1000\n",
      "Módulo (resto da divisão): 1\n",
      "Divisão inteira: 3\n",
      "Operações com strings:\n",
      "Eduardo Developer\n",
      "EduardoEduardoEduardo\n"
     ]
    }
   ],
   "source": [
    "a = 10\n",
    "b= 3\n",
    "\n",
    "print(\"Soma:\", a + b)\n",
    "print(\"Subtração:\", a * b)\n",
    "print(\"Divisão:\", a / b)\n",
    "print(\"Multiplicação:\", a ** b)\n",
    "print(\"Módulo (resto da divisão):\", a % b)\n",
    "print(\"Divisão inteira:\", a // b)\n",
    "print(\"Operações com strings:\")\n",
    "print(\"Eduardo\" + \" \" + \"Developer\")\n",
    "print(\"Eduardo\" * 3)\n"
   ]
  },
  {
   "cell_type": "code",
   "execution_count": null,
   "id": "128ee8d4",
   "metadata": {},
   "outputs": [
    {
     "name": "stdout",
     "output_type": "stream",
     "text": [
      "Eduardo, em 2050 você terá 56 anos.\n"
     ]
    }
   ],
   "source": [
    "nome = input(\"Digite o seu nome: \")\n",
    "idade = int(input(\"Digite a sua idade: \"))\n",
    "idade_2050 = 2050 - (2025 - idade)\n",
    "print(f\"{nome}, em 2050 você terá { idade_2050} anos.\")"
   ]
  }
 ],
 "metadata": {
  "kernelspec": {
   "display_name": "base",
   "language": "python",
   "name": "python3"
  },
  "language_info": {
   "codemirror_mode": {
    "name": "ipython",
    "version": 3
   },
   "file_extension": ".py",
   "mimetype": "text/x-python",
   "name": "python",
   "nbconvert_exporter": "python",
   "pygments_lexer": "ipython3",
   "version": "3.13.5"
  }
 },
 "nbformat": 4,
 "nbformat_minor": 5
}
