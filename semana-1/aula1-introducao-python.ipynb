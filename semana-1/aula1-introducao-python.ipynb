{
 "cells": [
  {
   "cell_type": "code",
   "execution_count": 1,
   "id": "f51e2db5",
   "metadata": {},
   "outputs": [
    {
     "name": "stdout",
     "output_type": "stream",
     "text": [
      "Olá, Eduardo! Daqui a 10 anos, você terá 41 anos.\n"
     ]
    }
   ],
   "source": [
    "nome = input(\"Qual é o seu nome?\")\n",
    "idade = int(input(\"Qual é a sua idade?\"))\n",
    "print(f\"Olá, {nome}! Daqui a 10 anos, você terá {idade + 10} anos.\")\n"
   ]
  }
 ],
 "metadata": {
  "kernelspec": {
   "display_name": "base",
   "language": "python",
   "name": "python3"
  },
  "language_info": {
   "codemirror_mode": {
    "name": "ipython",
    "version": 3
   },
   "file_extension": ".py",
   "mimetype": "text/x-python",
   "name": "python",
   "nbconvert_exporter": "python",
   "pygments_lexer": "ipython3",
   "version": "3.13.5"
  }
 },
 "nbformat": 4,
 "nbformat_minor": 5
}
