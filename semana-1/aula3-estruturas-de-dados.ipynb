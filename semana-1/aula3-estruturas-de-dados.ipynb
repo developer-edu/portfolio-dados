{
 "cells": [
  {
   "cell_type": "markdown",
   "id": "4a821dfb",
   "metadata": {},
   "source": [
    "## Aula 3 - Estruturas de Dados em Python (Listas e Dicionários)\n",
    "# Nesta aula, vamos explorar:\n",
    "\n",
    "- Como usar 'listas' para guardar dados em ordem\n",
    "- Como usar 'dicionários' para guardar dados com chaves e valores\n",
    "- Como manipular coleções de dados em Python de forma eficiente\n",
    "- Como simular um \"mini banco de dados\" com listas e dicionários."
   ]
  },
  {
   "cell_type": "code",
   "execution_count": 79,
   "id": "c038482b",
   "metadata": {},
   "outputs": [
    {
     "name": "stdout",
     "output_type": "stream",
     "text": [
      "['Ana', 'João', 'Carlos', 'Eduardo']\n",
      "O primeiro nome é: Ana\n",
      "Quantidade de nomes: 4\n"
     ]
    }
   ],
   "source": [
    "## Criando e acessando listas\n",
    "\n",
    "# Listas são estruturas que armazenam elementos em sequência. Podemos acessar cada item usando índices.\n",
    "\n",
    "nomes = [\"Ana\", \"João\", \"Carlos\", \"Eduardo\"]\n",
    "print(nomes)\n",
    "print(f\"O primeiro nome é: {nomes[0]}\")\n",
    "print(f\"Quantidade de nomes: {len(nomes)}\")\n"
   ]
  },
  {
   "cell_type": "code",
   "execution_count": 80,
   "id": "a9d11f1a",
   "metadata": {},
   "outputs": [
    {
     "name": "stdout",
     "output_type": "stream",
     "text": [
      "['Ana', 'João', 'Carlos', 'Eduardo', 'Fernanda']\n",
      "['Ana', 'João', 'Eduardo', 'Fernanda']\n",
      "['Ana', 'João', 'Eduardo']\n"
     ]
    }
   ],
   "source": [
    "## Adicionando e removendo itens da lista \n",
    "# Usamos métodos como 'append()', 'remove()' e 'pop()' para manipular listas.\n",
    "\n",
    "nomes.append(\"Fernanda\") # Adiciona um novo nome\n",
    "print(nomes)\n",
    "\n",
    "nomes.remove(\"Carlos\") # Remove um nome específico\n",
    "print(nomes)\n",
    "\n",
    "nomes.pop() # Remove o último nome\n",
    "print(nomes)"
   ]
  },
  {
   "cell_type": "code",
   "execution_count": 81,
   "id": "30bc0449",
   "metadata": {},
   "outputs": [
    {
     "name": "stdout",
     "output_type": "stream",
     "text": [
      "Eduardo\n",
      "9.5\n"
     ]
    }
   ],
   "source": [
    "## Criando um dicionário\n",
    "# Dicionários armazenam dados em pares 'chave': 'valor'. Cada chave aponta para um dado específico.\n",
    "\n",
    "aluno = {\n",
    "    \"nome\": \"Eduardo\",\n",
    "    \"idade\": 31,\n",
    "    \"nota\": 9.5\n",
    "}\n",
    "\n",
    "print(aluno[\"nome\"])  # Acessa o valor pela chave\n",
    "print(aluno[\"nota\"])  # Acessa a nota\n",
    "\n",
    "\n"
   ]
  },
  {
   "cell_type": "code",
   "execution_count": 82,
   "id": "aac4a971",
   "metadata": {},
   "outputs": [
    {
     "name": "stdout",
     "output_type": "stream",
     "text": [
      "{'nome': 'Eduardo', 'idade': 31, 'nota': '10.0', 'curso': ['Data Science']}\n"
     ]
    }
   ],
   "source": [
    "## Atualizando um dicionário\n",
    "# Podemos atualizar valores de chaves existentes ou adicionar novas chaves.\n",
    "\n",
    "aluno[\"nota\"] = \"10.0\"  # Atualiza a nota\n",
    "aluno[\"curso\"] = [\"Data Science\"]  # Adiciona uma nova chave\n",
    "print(aluno)\n"
   ]
  },
  {
   "cell_type": "code",
   "execution_count": 83,
   "id": "a210b880",
   "metadata": {},
   "outputs": [
    {
     "name": "stdout",
     "output_type": "stream",
     "text": [
      "Nome: Ana, Nota: 7\n",
      "Nome: João, Nota: 8.5\n",
      "Nome: Eduardo, Nota: 10\n"
     ]
    }
   ],
   "source": [
    "## Lista de dicionários\n",
    "# Essa estrutura simula uma tabela, onde cada dicionário representa uma linha (registro), e cada dicionário representa um conjunto de atributos.\n",
    "\n",
    "turma = [\n",
    "    {\"nome\": \"Ana\", \"nota\": 7},\n",
    "    {\"nome\": \"João\", \"nota\": 8.5},\n",
    "    {\"nome\": \"Eduardo\", \"nota\": 10}\n",
    "]\n",
    "\n",
    "for aluno in turma:\n",
    "    print(f\"Nome: {aluno['nome']}, Nota: {aluno['nota']}\")\n"
   ]
  },
  {
   "cell_type": "code",
   "execution_count": 84,
   "id": "b9860f49",
   "metadata": {},
   "outputs": [
    {
     "name": "stdout",
     "output_type": "stream",
     "text": [
      "Olá, Média da turma: 8.50\n"
     ]
    }
   ],
   "source": [
    "## Operações em listas de dicionários\n",
    "# Podemos iterar sobre a lista e extrair dados específicos, como calcular a média das notas.\n",
    "\n",
    "notas = [aluno[\"nota\"] for aluno in turma]\n",
    "media = sum(notas) / len(notas)\n",
    "\n",
    "print(f\"Olá, Média da turma: {media:.2f}\")"
   ]
  }
 ],
 "metadata": {
  "kernelspec": {
   "display_name": "base",
   "language": "python",
   "name": "python3"
  },
  "language_info": {
   "codemirror_mode": {
    "name": "ipython",
    "version": 3
   },
   "file_extension": ".py",
   "mimetype": "text/x-python",
   "name": "python",
   "nbconvert_exporter": "python",
   "pygments_lexer": "ipython3",
   "version": "3.13.5"
  }
 },
 "nbformat": 4,
 "nbformat_minor": 5
}
