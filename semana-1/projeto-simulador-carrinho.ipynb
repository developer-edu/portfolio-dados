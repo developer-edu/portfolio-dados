{
 "cells": [
  {
   "cell_type": "code",
   "execution_count": 1,
   "id": "d895fabb",
   "metadata": {},
   "outputs": [],
   "source": [
    "# Construir um simulador simples de carrinho de compras, com:\n",
    "# Cadastro de produtos\n",
    "# Escolha de produtos\n",
    "# Aplicação de desconto\n",
    "# Cálculo do total\n",
    "# Decisão de pagamento (dinheiro ou cartão)\n",
    "# Mensagem final com recibo"
   ]
  },
  {
   "cell_type": "code",
   "execution_count": 2,
   "id": "ac485acb",
   "metadata": {},
   "outputs": [
    {
     "name": "stdout",
     "output_type": "stream",
     "text": [
      "Bem-vindo ao Simulador de Carrinho de Compras!\n",
      "1 - Arroz (R$26,00)\n",
      "2 - Feijão (R$10,00)\n",
      "3 - Óleo (R$8,00)\n",
      "4 - Açúcar (R$4,00)\n",
      "5 - Sair\n"
     ]
    }
   ],
   "source": [
    "print(\"Bem-vindo ao Simulador de Carrinho de Compras!\")\n",
    "print(\"1 - Arroz (R$26,00)\")\n",
    "print(\"2 - Feijão (R$10,00)\")\n",
    "print(\"3 - Óleo (R$8,00)\")\n",
    "print(\"4 - Açúcar (R$4,00)\")\n",
    "print(\"5 - Sair\")"
   ]
  },
  {
   "cell_type": "code",
   "execution_count": 3,
   "id": "d8913998",
   "metadata": {},
   "outputs": [
    {
     "name": "stdout",
     "output_type": "stream",
     "text": [
      "Você adicionou Arroz ao carrinho.\n",
      "Você adicionou Feijão ao carrinho.\n"
     ]
    }
   ],
   "source": [
    "total = 0\n",
    "\n",
    "while True:\n",
    "    escolha = input(\"Escolha um produto (1-5): \")\n",
    "    \n",
    "    if escolha == '1':\n",
    "        total += 26.00\n",
    "        print(\"Você adicionou Arroz ao carrinho.\")\n",
    "    elif escolha == '2':\n",
    "        total += 10.00\n",
    "        print(\"Você adicionou Feijão ao carrinho.\")\n",
    "    elif escolha == '3':\n",
    "        total += 8.00\n",
    "        print(\"Você adicionou Óleo ao carrinho.\")\n",
    "    elif escolha == '4':\n",
    "        total += 4.00\n",
    "        print(\"Você adicionou Açúcar ao carrinho.\")\n",
    "    elif escolha == '5':\n",
    "        break\n",
    "    else:\n",
    "        print(\"Opção inválida, tente novamente.\")"
   ]
  },
  {
   "cell_type": "code",
   "execution_count": 4,
   "id": "264e64f1",
   "metadata": {},
   "outputs": [
    {
     "name": "stdout",
     "output_type": "stream",
     "text": [
      "\n",
      "Total da compra: R$36.00\n",
      "Desconto aplicado: R$3.60\n",
      "Valor final: R$32.40\n",
      "Obrigado por comprar conosco!\n"
     ]
    }
   ],
   "source": [
    "print(f\"\\nTotal da compra: R${total:.2f}\")\n",
    "forma = input(\"Escolha a forma de pagamento (dinheiro/cartão): \")\n",
    "\n",
    "if forma == \"dinheiro\":\n",
    "    desconto =  0.10\n",
    "elif forma == \"cartão\":\n",
    "    desconto = 0.05\n",
    "else:\n",
    "    desconto = 0\n",
    "\n",
    "valor_final = total - (total * desconto)\n",
    "print(f\"Desconto aplicado: R${total * desconto:.2f}\")\n",
    "print(f\"Valor final: R${valor_final:.2f}\")\n",
    "print(\"Obrigado por comprar conosco!\")\n"
   ]
  }
 ],
 "metadata": {
  "kernelspec": {
   "display_name": "base",
   "language": "python",
   "name": "python3"
  },
  "language_info": {
   "codemirror_mode": {
    "name": "ipython",
    "version": 3
   },
   "file_extension": ".py",
   "mimetype": "text/x-python",
   "name": "python",
   "nbconvert_exporter": "python",
   "pygments_lexer": "ipython3",
   "version": "3.13.5"
  }
 },
 "nbformat": 4,
 "nbformat_minor": 5
}
