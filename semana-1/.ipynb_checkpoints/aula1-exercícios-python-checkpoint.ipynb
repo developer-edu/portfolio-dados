{
 "cells": [
  {
   "cell_type": "code",
   "execution_count": 7,
   "id": "e73d10cd",
   "metadata": {},
   "outputs": [
    {
     "name": "stdout",
     "output_type": "stream",
     "text": [
      "Eduardo, daqui 5 anos você terá 36 anos.\n"
     ]
    }
   ],
   "source": [
    "# Exercício 1 - Calculadora de Idade Futura\n",
    "# Este programa calcula a idade futura de uma pessoa com base na idade atual e no número de anos que se deseja adicionar.\n",
    "\n",
    "nome = input(\"Digite o seu nome: \")\n",
    "idade_atual = int(input(\"Digite a sua idade atual: \"))\n",
    "anos_para_adicionar = int(input(\"Quantos anos você quer adicionar á sua idade? \"))\n",
    "idade_futura = idade_atual + anos_para_adicionar\n",
    "print(f\"{nome}, daqui {anos_para_adicionar} anos você terá { idade_futura} anos.\")\n"
   ]
  },
  {
   "cell_type": "code",
   "execution_count": 8,
   "id": "42c69b07",
   "metadata": {},
   "outputs": [
    {
     "name": "stdout",
     "output_type": "stream",
     "text": [
      "Você receberá R$ 12500.00 em 5 meses.\n"
     ]
    }
   ],
   "source": [
    "# Exercício 2 - Calculadora de Salário Total\n",
    "# Este programa calcula o salário total de um funcionário com base no salário mensal e no número de meses trabalhados.\n",
    "\n",
    "salario = float(input(\"Digite o seu salário mensal: \"))\n",
    "meses = int(input(\"Quantos meses você quer calcular? \"))\n",
    "salario_total = salario * meses\n",
    "print(f\"Você receberá R$ {salario_total:.2f} em {meses} meses.\")"
   ]
  },
  {
   "cell_type": "code",
   "execution_count": 10,
   "id": "84b1ba4f",
   "metadata": {},
   "outputs": [
    {
     "name": "stdout",
     "output_type": "stream",
     "text": [
      "A média de Eduardo é: 7.8\n"
     ]
    }
   ],
   "source": [
    "# Exercício 3 - Cálculo de Média Escolar\n",
    "# Este programa calcula a média escolar de um aluno com base em suas notas.\n",
    "\n",
    "nome = input(\"Digite o nome do aluno: \")\n",
    "nota1 = float(input(\"Digite a primeira nota: \"))\n",
    "nota2 = float(input(\"Digite a segunda nota: \"))\n",
    "nota3 = float(input(\"Digite a terceira nota: \"))\n",
    "nota4 = float(input(\"Digite a quarta nota: \"))\n",
    "media = (nota1 + nota2 + nota3 + nota4) / 4\n",
    "print(f\"A média de {nome} é: {media:.1f}\")\n"
   ]
  },
  {
   "cell_type": "code",
   "execution_count": 11,
   "id": "92ef8cab",
   "metadata": {},
   "outputs": [
    {
     "name": "stdout",
     "output_type": "stream",
     "text": [
      "31.0°C é igual a 87.8°F.\n"
     ]
    }
   ],
   "source": [
    "# Exercício 4 - Conversor de temperatura\n",
    "# Este programa converte uma temperatura de Celsius para Fahrenheit.\n",
    "\n",
    "celsius = float(input(\"Digite a temperatura em Celsius: \"))\n",
    "fahrenheit = (celsius * 9/5) + 32\n",
    "print(f\"{celsius}°C é igual a {fahrenheit}°F.\")\n"
   ]
  },
  {
   "cell_type": "code",
   "execution_count": 13,
   "id": "5753d371",
   "metadata": {},
   "outputs": [
    {
     "name": "stdout",
     "output_type": "stream",
     "text": [
      "Edu, o seu IMC é: 27.74\n"
     ]
    }
   ],
   "source": [
    "# Exercício 5 - Calculadora de IMC\n",
    "# Este programa calcula o Índice de Massa Corporal (IMC) de uma pessoa.\n",
    "\n",
    "nome = input(\"Digite o seu nome: \")\n",
    "peso = float(input(\"Digite o seu peso em kg: \"))\n",
    "altura = float(input(\"Digite a sua altura em metros: \"))\n",
    "imc = peso / (altura ** 2)\n",
    "print(f\"{nome}, o seu IMC é: {imc:.2f}\")\n"
   ]
  },
  {
   "cell_type": "code",
   "execution_count": 14,
   "id": "3a0a23da",
   "metadata": {},
   "outputs": [
    {
     "name": "stdout",
     "output_type": "stream",
     "text": [
      "Tabuada do 7:\n",
      "7 x 1 = 7\n",
      "7 x 2 = 14\n",
      "7 x 3 = 21\n",
      "7 x 4 = 28\n",
      "7 x 5 = 35\n",
      "7 x 6 = 42\n",
      "7 x 7 = 49\n",
      "7 x 8 = 56\n",
      "7 x 9 = 63\n",
      "7 x 10 = 70\n"
     ]
    }
   ],
   "source": [
    "# Exercício 6 - Tabuada Inteligente\n",
    "# Este programa exibe a tabuada de um número fornecido pelo usuário.\n",
    "\n",
    "numero = int(input(\"Digite um número para ver sua tabuada: \"))\n",
    "print(f\"Tabuada do {numero}:\")\n",
    "for i in range(1, 11):\n",
    "    print(f\"{numero} x {i} = {numero * i}\")\n",
    "    "
   ]
  }
 ],
 "metadata": {
  "kernelspec": {
   "display_name": "base",
   "language": "python",
   "name": "python3"
  },
  "language_info": {
   "codemirror_mode": {
    "name": "ipython",
    "version": 3
   },
   "file_extension": ".py",
   "mimetype": "text/x-python",
   "name": "python",
   "nbconvert_exporter": "python",
   "pygments_lexer": "ipython3",
   "version": "3.13.5"
  }
 },
 "nbformat": 4,
 "nbformat_minor": 5
}
