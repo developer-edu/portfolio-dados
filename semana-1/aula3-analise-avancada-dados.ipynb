{
 "cells": [
  {
   "cell_type": "markdown",
   "id": "22b7ef66",
   "metadata": {},
   "source": [
    "# Aula 3 - Análise Avançada com Lista de Dicionários\n",
    "\n",
    "Vamos aplicar operações mais complexas sobre listas de Dicionários, simulando análises de dados com Python puro."
   ]
  },
  {
   "cell_type": "code",
   "execution_count": 20,
   "id": "05d639c0",
   "metadata": {},
   "outputs": [],
   "source": [
    "# Dados base\n",
    "\n",
    "turma = [\n",
    "{\"nome\": \"Ana\", \"nota\": 7.5, \"situacao\": \"Aprovado\"},\n",
    "{\"nome\": \"Bruno\", \"nota\": 4.8, \"situacao\": \"Reprovado\"},\n",
    "{\"nome\": \"Carla\", \"nota\": 8.9, \"situacao\": \"Aprovado\"},\n",
    "{\"nome\": \"Diego\", \"nota\": 6.2, \"situacao\": \"Recuperação\"},\n",
    "{\"nome\": \"Eduardo\", \"nota\": 9.7, \"situacao\": \"Aprovado\"},\n",
    "{\"nome\": \"Elisa\", \"nota\": 5.5, \"situacao\": \"Recuperação\"},\n",
    "{\"nome\": \"Fábio\", \"nota\": 9.0, \"situacao\": \"Aprovado\"},\n",
    "{\"nome\": \"Gustavo\", \"nota\": 3.5, \"situacao\": \"Reprovado\"},\n",
    "{\"nome\": \"Helena\", \"nota\": 6.8, \"situacao\": \"Recuperação\"},\n",
    "{\"nome\": \"Igor\", \"nota\": 7.2, \"situacao\": \"Aprovado\"},\n",
    "{\"nome\": \"Júlia\", \"nota\": 4.0, \"situacao\": \"Reprovado\"}\n",
    "]"
   ]
  },
  {
   "cell_type": "markdown",
   "id": "427570ed",
   "metadata": {},
   "source": [
    "## Ranking dos alunos por nota (decrescente)\n",
    "\n",
    "Usamos 'sorted()' com 'lambda' para criar o ranking dos alunos com maior para menor nota."
   ]
  },
  {
   "cell_type": "code",
   "execution_count": 21,
   "id": "009673f3",
   "metadata": {},
   "outputs": [
    {
     "name": "stdout",
     "output_type": "stream",
     "text": [
      "Ranking dos alunos:\n",
      "1° - Eduardo (Nota: 9.7)\n",
      "2° - Fábio (Nota: 9.0)\n",
      "3° - Carla (Nota: 8.9)\n",
      "4° - Ana (Nota: 7.5)\n",
      "5° - Igor (Nota: 7.2)\n",
      "6° - Helena (Nota: 6.8)\n",
      "7° - Diego (Nota: 6.2)\n",
      "8° - Elisa (Nota: 5.5)\n",
      "9° - Bruno (Nota: 4.8)\n",
      "10° - Júlia (Nota: 4.0)\n",
      "11° - Gustavo (Nota: 3.5)\n"
     ]
    }
   ],
   "source": [
    "ranking = sorted(turma, key=lambda aluno: aluno[\"nota\"], reverse=True)\n",
    "\n",
    "print(\"Ranking dos alunos:\")\n",
    "for i, aluno in enumerate(ranking, start=1):\n",
    "    print(f\"{i}° - {aluno['nome']} (Nota: {aluno['nota']})\")"
   ]
  },
  {
   "cell_type": "markdown",
   "id": "1587fd1e",
   "metadata": {},
   "source": [
    "## Contagem de alunos por situação (Aprovado, Reprovado, Recuperação)"
   ]
  },
  {
   "cell_type": "code",
   "execution_count": 22,
   "id": "bad40634",
   "metadata": {},
   "outputs": [
    {
     "name": "stdout",
     "output_type": "stream",
     "text": [
      "\n",
      "Contagem de alunos por situação:\n",
      "Aprovado: 5 aluno(s)\n",
      "Reprovado: 3 aluno(s)\n",
      "Recuperação: 3 aluno(s)\n"
     ]
    }
   ],
   "source": [
    "contagem = {}\n",
    "for aluno in turma:\n",
    "    situacao = aluno[\"situacao\"]\n",
    "    contagem[situacao] = contagem.get(situacao, 0) + 1\n",
    "\n",
    "print(\"\\nContagem de alunos por situação:\")\n",
    "for chave, valor in contagem.items():\n",
    "    print(f\"{chave}: {valor} aluno(s)\")"
   ]
  },
  {
   "cell_type": "markdown",
   "id": "39769a1a",
   "metadata": {},
   "source": [
    "## Cálculo do percentual de alunos em cada categoria\n"
   ]
  },
  {
   "cell_type": "code",
   "execution_count": 23,
   "id": "6d30ea6c",
   "metadata": {},
   "outputs": [
    {
     "name": "stdout",
     "output_type": "stream",
     "text": [
      "Aprovado: 45.5% dos alunos\n",
      "Reprovado: 27.3% dos alunos\n",
      "Recuperação: 27.3% dos alunos\n"
     ]
    }
   ],
   "source": [
    "total_alunos = len(turma)\n",
    "for chave, valor in contagem.items():\n",
    "    percentual = (valor / total_alunos) * 100\n",
    "    print(f\"{chave}: {percentual:.1f}% dos alunos\")"
   ]
  },
  {
   "cell_type": "markdown",
   "id": "95450ca7",
   "metadata": {},
   "source": [
    "## Relatório final completo"
   ]
  },
  {
   "cell_type": "code",
   "execution_count": 24,
   "id": "1fb6af03",
   "metadata": {},
   "outputs": [
    {
     "name": "stdout",
     "output_type": "stream",
     "text": [
      "\n",
      "Boletim final:\n",
      "Eduardo - Nota: 9.7 - Situação: Aprovado\n",
      "Fábio - Nota: 9.0 - Situação: Aprovado\n",
      "Carla - Nota: 8.9 - Situação: Aprovado\n",
      "Ana - Nota: 7.5 - Situação: Aprovado\n",
      "Igor - Nota: 7.2 - Situação: Aprovado\n",
      "Helena - Nota: 6.8 - Situação: Recuperação\n",
      "Diego - Nota: 6.2 - Situação: Recuperação\n",
      "Elisa - Nota: 5.5 - Situação: Recuperação\n",
      "Bruno - Nota: 4.8 - Situação: Reprovado\n",
      "Júlia - Nota: 4.0 - Situação: Reprovado\n",
      "Gustavo - Nota: 3.5 - Situação: Reprovado\n"
     ]
    }
   ],
   "source": [
    "print(\"\\nBoletim final:\")\n",
    "for aluno in ranking:\n",
    "    print(f\"{aluno['nome']} - Nota: {aluno['nota']} - Situação: {aluno['situacao']}\")\n"
   ]
  },
  {
   "cell_type": "markdown",
   "id": "67c3ac73",
   "metadata": {},
   "source": [
    "## Conclusão\n",
    "\n",
    "Neste exercício avançado, aplicamos:\n",
    "- Ordenação(ranking)\n",
    "- Agrupamento por categoria\n",
    "- Cálculo de frequências e percentuais\n",
    "- Geração de relatório detalhado\n",
    "\n",
    "Tudo isso em Python puro - sem bibliotecas externas.\n",
    "Essa lógica é a base para análises com Pandas, Dashboards no Power BI e Relatórios Gerenciais."
   ]
  }
 ],
 "metadata": {
  "kernelspec": {
   "display_name": "base",
   "language": "python",
   "name": "python3"
  },
  "language_info": {
   "codemirror_mode": {
    "name": "ipython",
    "version": 3
   },
   "file_extension": ".py",
   "mimetype": "text/x-python",
   "name": "python",
   "nbconvert_exporter": "python",
   "pygments_lexer": "ipython3",
   "version": "3.13.5"
  }
 },
 "nbformat": 4,
 "nbformat_minor": 5
}
