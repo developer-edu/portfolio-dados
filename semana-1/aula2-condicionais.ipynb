{
 "cells": [
  {
   "cell_type": "code",
   "execution_count": 32,
   "id": "d4049b35",
   "metadata": {},
   "outputs": [],
   "source": [
    "# Aula 2 - Condicionais e Operadores Lógicos (if, else, elif)\n",
    "# Nesta aula, vamos aprender:\n",
    "# 1. Como usar 'if', 'else' e 'elif' \n",
    "# 2. Operadores de comparação: '==', '!=', '<', '>', '<=', '>='\n",
    "# 3. Operadores Lógicos: 'and', 'or', 'not'"
   ]
  },
  {
   "cell_type": "code",
   "execution_count": 33,
   "id": "e7336e9e",
   "metadata": {},
   "outputs": [
    {
     "name": "stdout",
     "output_type": "stream",
     "text": [
      "Você é maior de idade.\n"
     ]
    }
   ],
   "source": [
    "# Explicação básica de if e else\n",
    "\n",
    "idade = int(input(\"Digite a sua idade: \")) \n",
    "if idade >= 18:\n",
    "    print(\"Você é maior de idade.\")\n",
    "else:\n",
    "    print(\"Você é menor de idade.\")"
   ]
  },
  {
   "cell_type": "code",
   "execution_count": 34,
   "id": "e1a1920f",
   "metadata": {},
   "outputs": [
    {
     "name": "stdout",
     "output_type": "stream",
     "text": [
      "Aprovado\n"
     ]
    }
   ],
   "source": [
    "# Usando 'elif' para múltiplas condições\n",
    "\n",
    "nota = float(input(\"Digite a sua nota: \"))\n",
    "if nota >= 7:\n",
    "    print(\"Aprovado\")\n",
    "elif nota >= 5:\n",
    "    print(\"Recuperação\")\n",
    "else:\n",
    "    print(\"Reprovado\")\n",
    "    "
   ]
  },
  {
   "cell_type": "code",
   "execution_count": 35,
   "id": "74a6e663",
   "metadata": {},
   "outputs": [
    {
     "name": "stdout",
     "output_type": "stream",
     "text": [
      "False\n",
      "True\n",
      "True\n"
     ]
    }
   ],
   "source": [
    "# Comparações simples\n",
    "\n",
    "a = 10\n",
    "b = 20\n",
    "\n",
    "print(a == b)  # False\n",
    "print(a != b)  # True\n",
    "print(a < b)   # True"
   ]
  },
  {
   "cell_type": "code",
   "execution_count": 36,
   "id": "d841f463",
   "metadata": {},
   "outputs": [
    {
     "name": "stdout",
     "output_type": "stream",
     "text": [
      "Usuário ou senha inválidos. \n"
     ]
    }
   ],
   "source": [
    "# Operadores Lógicos\n",
    "\n",
    "usuario = input(\"Digite seu nome de usuário: \")\n",
    "senha = input(\"Digite sua senha: \")\n",
    "if usuario == \"admin\" and senha == \"123\":\n",
    "    print(\"Login bem-sucedido!\")\n",
    "else:\n",
    "    print(\"Usuário ou senha inválidos. \")\n",
    "\n",
    "\n"
   ]
  },
  {
   "cell_type": "code",
   "execution_count": 37,
   "id": "40be96b1",
   "metadata": {},
   "outputs": [
    {
     "name": "stdout",
     "output_type": "stream",
     "text": [
      "Você não é um adulto.\n",
      "Você não pode entrar na festa.\n"
     ]
    }
   ],
   "source": [
    "idade = int(input(\"Digite sua idade: \"))\n",
    "if idade >= 18 and idade < 65:\n",
    "    print(\"Você é um adulto.\")\n",
    "    print(\"Você pode entrar na festa.\")\n",
    "else:\n",
    "    print(\"Você não é um adulto.\")\n",
    "    print(\"Você não pode entrar na festa.\")"
   ]
  },
  {
   "cell_type": "code",
   "execution_count": 50,
   "id": "a15c1200",
   "metadata": {},
   "outputs": [
    {
     "name": "stdout",
     "output_type": "stream",
     "text": [
      "Idade válida.\n",
      "Você é um adulto.\n"
     ]
    }
   ],
   "source": [
    "# Validação de faixa etária\n",
    "\n",
    "idade = int(input(\"Digite sua idade: \"))\n",
    "if 0 <= idade <= 120:\n",
    "    print(\"Idade válida.\")\n",
    "    if idade < 18:\n",
    "        print(\"Você é menor de idade.\")\n",
    "    elif idade < 65:\n",
    "        print(\"Você é um adulto.\")\n",
    "    else:\n",
    "        print(\"Você é idoso.\")\n",
    "else:\n",
    "    print(\"Idade inválida.\")\n"
   ]
  },
  {
   "cell_type": "code",
   "execution_count": null,
   "id": "06e529f1",
   "metadata": {},
   "outputs": [],
   "source": [
    "## Operadores de Comparação\n",
    "- '==' (igualdade)\n",
    "- '!=' (diferença)\n",
    "- '<' (menor que)\n",
    "- '>' (maior que)\n",
    "- '<=' (menor ou igual a)\n",
    "- '>=' (maior ou igual a)\n",
    "\n",
    "## Operadores Lógicos\n",
    "- 'and' (e)\n",
    "- 'or' (ou)\n",
    "- 'not' (não)"
   ]
  }
 ],
 "metadata": {
  "kernelspec": {
   "display_name": "base",
   "language": "python",
   "name": "python3"
  },
  "language_info": {
   "codemirror_mode": {
    "name": "ipython",
    "version": 3
   },
   "file_extension": ".py",
   "mimetype": "text/x-python",
   "name": "python",
   "nbconvert_exporter": "python",
   "pygments_lexer": "ipython3",
   "version": "3.13.5"
  }
 },
 "nbformat": 4,
 "nbformat_minor": 5
}
