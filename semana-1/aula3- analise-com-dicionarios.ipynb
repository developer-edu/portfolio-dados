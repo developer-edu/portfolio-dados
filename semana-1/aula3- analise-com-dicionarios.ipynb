{
 "cells": [
  {
   "cell_type": "markdown",
   "id": "a5a253a1",
   "metadata": {},
   "source": [
    "## Aula 3 (Continuação) - Mini-análises com lista de Dicionários\n",
    "\n",
    "Neste exercício vamos praticar:\n",
    "- Cálculo de média\n",
    "- Filtros por condição (ex: nota < 7)\n",
    "- Busca do maior valor\n",
    "- Criação de campos derivados (como \"Situação\")"
   ]
  },
  {
   "cell_type": "code",
   "execution_count": 29,
   "id": "73247f8d",
   "metadata": {},
   "outputs": [],
   "source": [
    "# Estrura base de dados\n",
    "\n",
    "turma = [\n",
    "    {\"nome\": \"Ana\", \"nota\": 7.5},\n",
    "    {\"nome\": \"João\", \"nota\": 8.0},\n",
    "    {\"nome\": \"Carlos\", \"nota\": 6.0},\n",
    "    {\"nome\": \"Eduardo\", \"nota\": 9.0},\n",
    "    {\"nome\": \"Fernanda\", \"nota\": 5.5},\n",
    "    {\"nome\": \"Gustavo\", \"nota\": 10.0},\n",
    "    {\"nome\": \"Helena\", \"nota\": 8.5},\n",
    "    {\"nome\": \"Igor\", \"nota\": 7.0},\n",
    "    {\"nome\": \"Juliana\", \"nota\": 6.5},\n",
    "    {\"nome\": \"Karina\", \"nota\": 9.5}\n",
    "]"
   ]
  },
  {
   "cell_type": "markdown",
   "id": "11492eaf",
   "metadata": {},
   "source": [
    "# Média da turma\n",
    "\n",
    "Vamos extrair todas as notas da lista de dicionários e calcular a média."
   ]
  },
  {
   "cell_type": "code",
   "execution_count": 30,
   "id": "067f6dde",
   "metadata": {},
   "outputs": [
    {
     "name": "stdout",
     "output_type": "stream",
     "text": [
      "Média da turma: 7.75\n"
     ]
    }
   ],
   "source": [
    "notas = {aluno[\"nota\"] for aluno in turma}\n",
    "media = sum(notas) / len(notas)\n",
    "\n",
    "print(f\"Média da turma: {media:.2f}\")\n"
   ]
  },
  {
   "cell_type": "markdown",
   "id": "e6fb22c8",
   "metadata": {},
   "source": [
    "# Aluno com maior nota\n",
    "\n",
    "Vamos usar a função 'max()' com 'lambda' para buscar o dicionário com o maior valor de 'nota'."
   ]
  },
  {
   "cell_type": "code",
   "execution_count": 31,
   "id": "839d851f",
   "metadata": {},
   "outputs": [
    {
     "name": "stdout",
     "output_type": "stream",
     "text": [
      "Maior nota: Gustavo (10.0)\n"
     ]
    }
   ],
   "source": [
    "# Encontrar o aluno com a maior nota\n",
    "\n",
    "maior = max(turma, key=lambda aluno: aluno[\"nota\"])\n",
    "print(f\"Maior nota: {maior['nome']} ({maior['nota']})\")"
   ]
  },
  {
   "cell_type": "markdown",
   "id": "b86a5da8",
   "metadata": {},
   "source": [
    "# Filtrar alunos reprovados\n",
    "\n",
    "Agora vamos selecionar apenas os alunos com nota menor que 7."
   ]
  },
  {
   "cell_type": "code",
   "execution_count": 32,
   "id": "99763174",
   "metadata": {},
   "outputs": [
    {
     "name": "stdout",
     "output_type": "stream",
     "text": [
      "Alunos reprovados:\n",
      "-Carlos (6.0)\n",
      "-Fernanda (5.5)\n",
      "-Juliana (6.5)\n"
     ]
    }
   ],
   "source": [
    "# Filtrar alunos reprovados\n",
    "\n",
    "reprovados = [aluno for aluno in turma if aluno[\"nota\"] < 7]\n",
    "print(\"Alunos reprovados:\")\n",
    "for aluno in reprovados:\n",
    "    print(f\"-{aluno['nome']} ({aluno['nota']})\")"
   ]
  },
  {
   "cell_type": "markdown",
   "id": "4b6b62f9",
   "metadata": {},
   "source": [
    "# Adicionar campo \" situação\" a cada aluno\n",
    "\n",
    "Vamos classificar cada aluno como Aprovado, Recuperação ou Reprovado com base na nota."
   ]
  },
  {
   "cell_type": "code",
   "execution_count": 33,
   "id": "7eee6b64",
   "metadata": {},
   "outputs": [],
   "source": [
    "for aluno in turma:\n",
    "    if aluno[\"nota\"] >= 7:\n",
    "        aluno[\"situacao\"] = \"Aprovado\"\n",
    "    elif aluno[\"nota\"] >= 5:\n",
    "        aluno[\"situacao\"] = \"Recuperação\"\n",
    "    else:\n",
    "        aluno[\"situacao\"] = \"Reprovado\""
   ]
  },
  {
   "cell_type": "markdown",
   "id": "0e6df445",
   "metadata": {},
   "source": [
    "## Boletim final com situação\n",
    "\n",
    "Mostramos agora cada aluno com nome, nota, e sua situação final."
   ]
  },
  {
   "cell_type": "code",
   "execution_count": 34,
   "id": "e46b99af",
   "metadata": {},
   "outputs": [
    {
     "name": "stdout",
     "output_type": "stream",
     "text": [
      "Boletim final:\n",
      "Ana | nota: 7.5 | Situação: Aprovado\n",
      "João | nota: 8.0 | Situação: Aprovado\n",
      "Carlos | nota: 6.0 | Situação: Recuperação\n",
      "Eduardo | nota: 9.0 | Situação: Aprovado\n",
      "Fernanda | nota: 5.5 | Situação: Recuperação\n",
      "Gustavo | nota: 10.0 | Situação: Aprovado\n",
      "Helena | nota: 8.5 | Situação: Aprovado\n",
      "Igor | nota: 7.0 | Situação: Aprovado\n",
      "Juliana | nota: 6.5 | Situação: Recuperação\n",
      "Karina | nota: 9.5 | Situação: Aprovado\n"
     ]
    }
   ],
   "source": [
    "print(\"Boletim final:\")\n",
    "for aluno in turma:\n",
    "    print(f\"{aluno['nome']} | nota: {aluno['nota']} | Situação: {aluno['situacao']}\")"
   ]
  },
  {
   "cell_type": "markdown",
   "id": "c3dd938d",
   "metadata": {},
   "source": [
    "## Conclusão\n",
    "\n",
    "Neste exercício, simulamos uma análise de dados usando apenas Python puro. \n",
    "Isso serve como base prática para trabalhar com estruturas como JSON, tabelas, DataFrames e relatórios automatizados no futuro."
   ]
  }
 ],
 "metadata": {
  "kernelspec": {
   "display_name": "base",
   "language": "python",
   "name": "python3"
  },
  "language_info": {
   "codemirror_mode": {
    "name": "ipython",
    "version": 3
   },
   "file_extension": ".py",
   "mimetype": "text/x-python",
   "name": "python",
   "nbconvert_exporter": "python",
   "pygments_lexer": "ipython3",
   "version": "3.13.5"
  }
 },
 "nbformat": 4,
 "nbformat_minor": 5
}
