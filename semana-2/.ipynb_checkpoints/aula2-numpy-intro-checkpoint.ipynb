{
 "cells": [
  {
   "cell_type": "code",
   "execution_count": 3,
   "id": "d740c0bb-d19a-4559-8803-e8988ba50bb2",
   "metadata": {},
   "outputs": [],
   "source": [
    "import numpy as np"
   ]
  },
  {
   "cell_type": "code",
   "execution_count": 5,
   "id": "3dbb8308-fc31-447a-968b-abca617db9f8",
   "metadata": {},
   "outputs": [
    {
     "name": "stdout",
     "output_type": "stream",
     "text": [
      "[70.5 82.1 65.4 90. ]\n",
      "<class 'numpy.ndarray'>\n"
     ]
    }
   ],
   "source": [
    "lista_pesos = [70.5, 82.1, 65.4, 90.0]\n",
    "array_pesos =np.array(lista_pesos)\n",
    "\n",
    "print(array_pesos)\n",
    "print(type(array_pesos)) # Veja que o tipo é numpy.ndarray"
   ]
  },
  {
   "cell_type": "code",
   "execution_count": 24,
   "id": "2cd0a4dc-5905-4b40-8a01-b539b25b4003",
   "metadata": {},
   "outputs": [
    {
     "name": "stdout",
     "output_type": "stream",
     "text": [
      "Array de zeros: [0. 0. 0. 0. 0.]\n",
      "Array de uns: [1. 1. 1. 1.]\n",
      "Sequência: [0 2 4 6 8]\n"
     ]
    }
   ],
   "source": [
    "# Um array com 5 zeros\n",
    "zeros = np.zeros(5)\n",
    "print(\"Array de zeros:\", zeros)\n",
    "\n",
    "# Um array com 4 uns\n",
    "uns = np.ones(4)\n",
    "print(\"Array de uns:\", uns)\n",
    "\n",
    "# Um array com uma sequência de números (como o range do Python)\n",
    "sequencia = np.arange(0, 10, 2,)\n",
    "# De 0 a 10, pulando de 2 em 2 \n",
    "print(\"Sequência:\", sequencia)"
   ]
  },
  {
   "cell_type": "code",
   "execution_count": 29,
   "id": "552fe31c-4df9-40e6-8b64-cfc212e613f9",
   "metadata": {},
   "outputs": [
    {
     "name": "stdout",
     "output_type": "stream",
     "text": [
      "Matriz:\n",
      " [[1 2 3]\n",
      " [4 5 6]]\n",
      "Dimensões da matriz: (2, 3)\n"
     ]
    }
   ],
   "source": [
    "# Arrays Multidimensionais (Matrizes):\n",
    "\n",
    "matriz = np.array([[1, 2, 3],[4, 5, 6]])\n",
    "print(\"Matriz:\\n\", matriz)\n",
    "print(\"Dimensões da matriz:\", matriz.shape) #Retorna (2,3) ->2 linhas, 3 colunas"
   ]
  },
  {
   "cell_type": "code",
   "execution_count": 31,
   "id": "e328fb06-dcab-47b4-9799-5a86bce18b1c",
   "metadata": {},
   "outputs": [
    {
     "name": "stdout",
     "output_type": "stream",
     "text": [
      "Vendas com bônus: [110. 165. 220. 330.]\n",
      "Vendas com taxa: [102.5 152.5 202.5 302.5]\n"
     ]
    }
   ],
   "source": [
    "## Operações em Massa (O poder da Vetorização) \n",
    "\n",
    "dados_vendas = np.array([100, 150, 200, 300])\n",
    "\n",
    "# Aumentar todas as vendas em 10%\n",
    "vendas_com_bonus = dados_vendas * 1.1\n",
    "print(\"Vendas com bônus:\", vendas_com_bonus)\n",
    "\n",
    "# Adicionar uma taxa fixa de R$ 2,50 a cada venda\n",
    "vendas_com_taxa = dados_vendas + 2.5\n",
    "print(\"Vendas com taxa:\", vendas_com_taxa)\n"
   ]
  },
  {
   "cell_type": "code",
   "execution_count": 35,
   "id": "bd0a59fa-f392-4f57-a195-952fb300ba26",
   "metadata": {},
   "outputs": [
    {
     "name": "stdout",
     "output_type": "stream",
     "text": [
      "Total do bimestre: [210 410 290]\n"
     ]
    }
   ],
   "source": [
    "## Operações entre dois arrays: Desde que tenham o mesmo tamanho, você pode fazer operações elemento a elemento\n",
    "\n",
    "vendas_jan = np.array([100, 200, 150])\n",
    "vendas_fev = np.array([110, 210, 140])\n",
    "\n",
    "total_bimestre = vendas_jan + vendas_fev\n",
    "print(\"Total do bimestre:\", total_bimestre)"
   ]
  },
  {
   "cell_type": "code",
   "execution_count": 61,
   "id": "1869c30b-439a-4965-b386-d8410179f772",
   "metadata": {},
   "outputs": [
    {
     "name": "stdout",
     "output_type": "stream",
     "text": [
      "Array de IMCs: [22.85714286 26.2345679  22.77318641 26.31578947 26.02304899]\n"
     ]
    }
   ],
   "source": [
    "# Dados de 5 pessoas \n",
    "pesos = np.array([70, 85, 62, 95, 91])\n",
    "alturas = np.array([1.75, 1.80, 1.65, 1.90, 1.87])\n",
    "\n",
    "# Calcule o IMC de todos de uma vez com a mágica do Numpy\n",
    "imc = pesos / (alturas ** 2)\n",
    "\n",
    "# O resultado é um novo array com os IMCs de cada pessoa\n",
    "print(\"Array de IMCs:\", imc)"
   ]
  },
  {
   "cell_type": "code",
   "execution_count": null,
   "id": "6b244413-d5ba-4609-90e1-23cc10eb8a49",
   "metadata": {},
   "outputs": [],
   "source": []
  }
 ],
 "metadata": {
  "kernelspec": {
   "display_name": "Python 3 (ipykernel)",
   "language": "python",
   "name": "python3"
  },
  "language_info": {
   "codemirror_mode": {
    "name": "ipython",
    "version": 3
   },
   "file_extension": ".py",
   "mimetype": "text/x-python",
   "name": "python",
   "nbconvert_exporter": "python",
   "pygments_lexer": "ipython3",
   "version": "3.13.5"
  }
 },
 "nbformat": 4,
 "nbformat_minor": 5
}
