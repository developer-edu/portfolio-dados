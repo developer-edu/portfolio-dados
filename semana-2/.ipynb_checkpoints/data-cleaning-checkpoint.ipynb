{
 "cells": [
  {
   "cell_type": "markdown",
   "id": "c73a0ce1-b708-449e-a358-bfd8312f6948",
   "metadata": {},
   "source": [
    "## Tratamendo de dados faltantes (NaN) com Pandas\n",
    "Diagnosticar, visualizar e aplicar as principais estratégias de tratamento de dados faltantes (NaN)"
   ]
  },
  {
   "cell_type": "code",
   "execution_count": 3,
   "id": "20f401a5-1b01-4863-9825-cbeeebcc6d0f",
   "metadata": {},
   "outputs": [
    {
     "name": "stdout",
     "output_type": "stream",
     "text": [
      "Ambiente pronto. Dataset Titanic carregado.\n"
     ]
    },
    {
     "data": {
      "text/html": [
       "<div>\n",
       "<style scoped>\n",
       "    .dataframe tbody tr th:only-of-type {\n",
       "        vertical-align: middle;\n",
       "    }\n",
       "\n",
       "    .dataframe tbody tr th {\n",
       "        vertical-align: top;\n",
       "    }\n",
       "\n",
       "    .dataframe thead th {\n",
       "        text-align: right;\n",
       "    }\n",
       "</style>\n",
       "<table border=\"1\" class=\"dataframe\">\n",
       "  <thead>\n",
       "    <tr style=\"text-align: right;\">\n",
       "      <th></th>\n",
       "      <th>PassengerId</th>\n",
       "      <th>Survived</th>\n",
       "      <th>Pclass</th>\n",
       "      <th>Name</th>\n",
       "      <th>Sex</th>\n",
       "      <th>Age</th>\n",
       "      <th>SibSp</th>\n",
       "      <th>Parch</th>\n",
       "      <th>Ticket</th>\n",
       "      <th>Fare</th>\n",
       "      <th>Cabin</th>\n",
       "      <th>Embarked</th>\n",
       "    </tr>\n",
       "  </thead>\n",
       "  <tbody>\n",
       "    <tr>\n",
       "      <th>0</th>\n",
       "      <td>1</td>\n",
       "      <td>0</td>\n",
       "      <td>3</td>\n",
       "      <td>Braund, Mr. Owen Harris</td>\n",
       "      <td>male</td>\n",
       "      <td>22.0</td>\n",
       "      <td>1</td>\n",
       "      <td>0</td>\n",
       "      <td>A/5 21171</td>\n",
       "      <td>7.2500</td>\n",
       "      <td>NaN</td>\n",
       "      <td>S</td>\n",
       "    </tr>\n",
       "    <tr>\n",
       "      <th>1</th>\n",
       "      <td>2</td>\n",
       "      <td>1</td>\n",
       "      <td>1</td>\n",
       "      <td>Cumings, Mrs. John Bradley (Florence Briggs Th...</td>\n",
       "      <td>female</td>\n",
       "      <td>38.0</td>\n",
       "      <td>1</td>\n",
       "      <td>0</td>\n",
       "      <td>PC 17599</td>\n",
       "      <td>71.2833</td>\n",
       "      <td>C85</td>\n",
       "      <td>C</td>\n",
       "    </tr>\n",
       "    <tr>\n",
       "      <th>2</th>\n",
       "      <td>3</td>\n",
       "      <td>1</td>\n",
       "      <td>3</td>\n",
       "      <td>Heikkinen, Miss. Laina</td>\n",
       "      <td>female</td>\n",
       "      <td>26.0</td>\n",
       "      <td>0</td>\n",
       "      <td>0</td>\n",
       "      <td>STON/O2. 3101282</td>\n",
       "      <td>7.9250</td>\n",
       "      <td>NaN</td>\n",
       "      <td>S</td>\n",
       "    </tr>\n",
       "    <tr>\n",
       "      <th>3</th>\n",
       "      <td>4</td>\n",
       "      <td>1</td>\n",
       "      <td>1</td>\n",
       "      <td>Futrelle, Mrs. Jacques Heath (Lily May Peel)</td>\n",
       "      <td>female</td>\n",
       "      <td>35.0</td>\n",
       "      <td>1</td>\n",
       "      <td>0</td>\n",
       "      <td>113803</td>\n",
       "      <td>53.1000</td>\n",
       "      <td>C123</td>\n",
       "      <td>S</td>\n",
       "    </tr>\n",
       "    <tr>\n",
       "      <th>4</th>\n",
       "      <td>5</td>\n",
       "      <td>0</td>\n",
       "      <td>3</td>\n",
       "      <td>Allen, Mr. William Henry</td>\n",
       "      <td>male</td>\n",
       "      <td>35.0</td>\n",
       "      <td>0</td>\n",
       "      <td>0</td>\n",
       "      <td>373450</td>\n",
       "      <td>8.0500</td>\n",
       "      <td>NaN</td>\n",
       "      <td>S</td>\n",
       "    </tr>\n",
       "  </tbody>\n",
       "</table>\n",
       "</div>"
      ],
      "text/plain": [
       "   PassengerId  Survived  Pclass  \\\n",
       "0            1         0       3   \n",
       "1            2         1       1   \n",
       "2            3         1       3   \n",
       "3            4         1       1   \n",
       "4            5         0       3   \n",
       "\n",
       "                                                Name     Sex   Age  SibSp  \\\n",
       "0                            Braund, Mr. Owen Harris    male  22.0      1   \n",
       "1  Cumings, Mrs. John Bradley (Florence Briggs Th...  female  38.0      1   \n",
       "2                             Heikkinen, Miss. Laina  female  26.0      0   \n",
       "3       Futrelle, Mrs. Jacques Heath (Lily May Peel)  female  35.0      1   \n",
       "4                           Allen, Mr. William Henry    male  35.0      0   \n",
       "\n",
       "   Parch            Ticket     Fare Cabin Embarked  \n",
       "0      0         A/5 21171   7.2500   NaN        S  \n",
       "1      0          PC 17599  71.2833   C85        C  \n",
       "2      0  STON/O2. 3101282   7.9250   NaN        S  \n",
       "3      0            113803  53.1000  C123        S  \n",
       "4      0            373450   8.0500   NaN        S  "
      ]
     },
     "execution_count": 3,
     "metadata": {},
     "output_type": "execute_result"
    }
   ],
   "source": [
    "# Importando as bibliotecas essenciais\n",
    "import pandas as pd\n",
    "import numpy as np\n",
    "import seaborn as sns\n",
    "import matplotlib.pyplot as plt\n",
    "\n",
    "# Carregando uma cópia \"fresca\" do dataset para nossa análise \n",
    "df_titanic = pd.read_csv('Titanic-Dataset.csv')\n",
    "\n",
    "print(\"Ambiente pronto. Dataset Titanic carregado.\")\n",
    "df_titanic.head()"
   ]
  },
  {
   "cell_type": "markdown",
   "id": "0b5b1549-26db-493a-9101-4e7cf1da842d",
   "metadata": {},
   "source": [
    "## A investigação - Contando e Entendendo os NaNs"
   ]
  },
  {
   "cell_type": "code",
   "execution_count": 4,
   "id": "a8b4325e-6c18-4cee-aa8d-64fc85a85147",
   "metadata": {},
   "outputs": [
    {
     "name": "stdout",
     "output_type": "stream",
     "text": [
      "Relatório de Dados Faltantes\n",
      "Cabin       687\n",
      "Age         177\n",
      "Embarked      2\n",
      "dtype: int64\n"
     ]
    }
   ],
   "source": [
    "# Gerando um relatório de valores nulos por coluna \n",
    "print(\"Relatório de Dados Faltantes\")\n",
    "dados_faltantes = df_titanic.isnull().sum()\n",
    "print(dados_faltantes[dados_faltantes > 0].sort_values(ascending=False))"
   ]
  },
  {
   "cell_type": "markdown",
   "id": "262ef1af-3e12-40e4-8abe-b9eaeca5b016",
   "metadata": {},
   "source": [
    "## O resultado acima é o nosso \"boletim de ocorrência\". Ele nos informa que:\n",
    "- A coluna Cabin é o nosso maior problema, com 687 valores faltantes.\n",
    "- A coluna Age tem um número significativo de buracos (177).\n",
    "- A coluna Embarked tem um problema menor, com apenas 2 valores faltantes.\n",
    "  "
   ]
  },
  {
   "cell_type": "markdown",
   "id": "7ec0677b-8069-497b-a00e-ddf914f2f9d7",
   "metadata": {},
   "source": [
    "## Usaremos a biblioteca seaborn para criar um mapa de calor dos nossos dados nulos."
   ]
  },
  {
   "cell_type": "code",
   "execution_count": 5,
   "id": "6cc63d9c-0d50-4561-a18a-486672e93287",
   "metadata": {},
   "outputs": [
    {
     "data": {
      "image/png": "[encoded data removed]",
      "text/plain": [
       "<Figure size 1200x700 with 1 Axes>"
      ]
     },
     "metadata": {},
     "output_type": "display_data"
    }
   ],
   "source": [
    "# Configurando o tamanho do gráfico para melhor visualização\n",
    "plt.figure(figsize=(12, 7))\n",
    "\n",
    "# Criando o mapa de calor\n",
    "sns.heatmap(df_titanic.isnull(), cbar=False, yticklabels=False,cmap='viridis')\n",
    "\n",
    "# Adicionando um título profissional\n",
    "plt.title('Mapa de Calor de Dados Faltantes no Dataset Titanic', fontsize=16)\n",
    "plt.show()"
   ]
  },
  {
   "cell_type": "markdown",
   "id": "51058788-75f7-456d-94ba-e5b3a3e55e4f",
   "metadata": {},
   "source": [
    "# Cada faixa amarela representa um dado faltante. A visualização confirma brutalmente o que os números nos disseram:\n",
    "Cabin é um grande borrão amarelo, quase inutilizável. Age tem \"buracos\" espalhados por todo o dataset, mostrando que o problema não está concentrado em um único grupo de passageiros."
   ]
  },
  {
   "cell_type": "markdown",
   "id": "95ddded1-b488-4740-9722-693e708cc88c",
   "metadata": {},
   "source": [
    "## Estrátegia de Remoção (.drop() e .dropna())\n",
    "A primeira estratégia de limpeza é a mais simples: remover o que não tem conserto. Isso pode ser feito em colunas, ou em linhas."
   ]
  },
  {
   "cell_type": "code",
   "execution_count": 7,
   "id": "df30157b-6555-4864-a2c5-6f82fa3f665a",
   "metadata": {},
   "outputs": [
    {
     "name": "stdout",
     "output_type": "stream",
     "text": [
      "Coluna 'Cabin' removida com sucesso.\n",
      "Número de colunas agora: 11\n"
     ]
    }
   ],
   "source": [
    "## Removendo a Coluna Cabin. Como a coluna está 77% vazia, a decisão mais sensata é removê-la.\n",
    "# O argumento axis=1 especifica que estamos removendo uma coluna.\n",
    "# O inplace=True modifica o DataFrame original diretamente.\n",
    "df_titanic.drop(columns=['Cabin'], inplace=True)\n",
    "\n",
    "print(\"Coluna 'Cabin' removida com sucesso.\")\n",
    "print(f\"Número de colunas agora: {df_titanic.shape[1]}\")"
   ]
  },
  {
   "cell_type": "markdown",
   "id": "71996b98-57c1-4ee7-a9de-5e757b3269af",
   "metadata": {},
   "source": [
    "## O Perigo de Remover Linhas:\n",
    "Vamos simular o que aconteceria se removêssemos todas as linhas com qualquer valor nulo."
   ]
  },
  {
   "cell_type": "code",
   "execution_count": 11,
   "id": "9ded7015-4082-4ced-9f2c-6c6f2d0d2571",
   "metadata": {},
   "outputs": [
    {
     "name": "stdout",
     "output_type": "stream",
     "text": [
      "Tamanho original do dataset: {df_titanic.shape[0]} linhas.\n",
      "Tamanho após .dropna() em todas as linhas: 712 linhas.\n",
      "Perderíamos 179 regristros! Inaceitável.\n"
     ]
    }
   ],
   "source": [
    "print(\"Tamanho original do dataset: {df_titanic.shape[0]} linhas.\")\n",
    "df_simulacao_dropna = df_titanic.dropna()\n",
    "print(f\"Tamanho após .dropna() em todas as linhas: {df_simulacao_dropna.shape[0]} linhas.\")\n",
    "print(f\"Perderíamos {df_titanic.shape[0] - df_simulacao_dropna.shape[0]} regristros! Inaceitável.\")"
   ]
  },
  {
   "cell_type": "markdown",
   "id": "89110b70-9f5d-4c78-b572-cd2f8399d117",
   "metadata": {},
   "source": [
    "## Estratégia de Preenchimento/Imputação: .filna()\n",
    "Estaremos preenchendo os buracos com um valor estatísticamente provável.\n",
    "- Para colunas numérricas (Age), usamos a média ou a mediana.\n",
    "- Para colunas categóricas (Embarked), usamos a moda (o valor mais frequente)."
   ]
  },
  {
   "cell_type": "code",
   "execution_count": 23,
   "id": "8630d6d7-73ee-406c-a623-123af2eb450f",
   "metadata": {},
   "outputs": [
    {
     "name": "stdout",
     "output_type": "stream",
     "text": [
      "A idade média para preenchimento é:  29.70 anos.\n",
      "\n",
      "Nulos em 'Age' após o tratamento: 0\n"
     ]
    }
   ],
   "source": [
    "## Tratando a coluna Age (numérica)\n",
    "# 1. Calcular a média de idade, que será nosso valor de preenchimento\n",
    "media_idade = df_titanic['Age'].mean()\n",
    "print(f\"A idade média para preenchimento é: {media_idade: .2f} anos.\")\n",
    "\n",
    "# 2. Aplicar o .fillna()\n",
    "df_titanic['Age'] = df_titanic['Age'].fillna(media_idade)\n",
    "\n",
    "# 3. Verificar o resultado \n",
    "print(f\"\\nNulos em 'Age' após o tratamento: {df_titanic['Age'].isnull().sum()}\")"
   ]
  },
  {
   "cell_type": "code",
   "execution_count": 28,
   "id": "f595cbe8-2352-421c-aa9f-65bba2728192",
   "metadata": {},
   "outputs": [
    {
     "name": "stdout",
     "output_type": "stream",
     "text": [
      "O porto de embarque mais comum (moda) é: 'S'\n",
      "\n",
      "Nulos em 'Embarked' após o tratamento: 0\n"
     ]
    }
   ],
   "source": [
    "## Tratando a Coluna Embarked (Categórica)\n",
    "# 1. Encontrar a moda, que será nosso valor de preenchimento\n",
    "moda_embarque = df_titanic['Embarked'].mode()[0]\n",
    "print(f\"O porto de embarque mais comum (moda) é: '{moda_embarque}'\")\n",
    "\n",
    "# 2. Aplicar o .fillna()\n",
    "df_titanic['Embarked'] = df_titanic['Embarked'].fillna(moda_embarque)\n",
    "\n",
    "# 3. Verificar o resultado final \n",
    "print(f\"\\nNulos em 'Embarked' após o tratamento: {df_titanic['Embarked'].isnull().sum()}\")\n"
   ]
  },
  {
   "cell_type": "markdown",
   "id": "5bf2616b-05e5-43f8-b58e-94f512093816",
   "metadata": {},
   "source": [
    "## Agora que executamos um ciclo completo de limpeza de dados. \n",
    "Diagnosticamos, visualizamos, e aplicamos as estratégias corretas para cada tipo de problema."
   ]
  },
  {
   "cell_type": "code",
   "execution_count": 29,
   "id": "fe5aeb65-9d8b-4c1b-8b49-3f69bde78225",
   "metadata": {},
   "outputs": [
    {
     "name": "stdout",
     "output_type": "stream",
     "text": [
      "Relatório final de dados faltantes:\n",
      "PassengerId    0\n",
      "Survived       0\n",
      "Pclass         0\n",
      "Name           0\n",
      "Sex            0\n",
      "Age            0\n",
      "SibSp          0\n",
      "Parch          0\n",
      "Ticket         0\n",
      "Fare           0\n",
      "Embarked       0\n",
      "dtype: int64\n",
      "\n",
      "Nosso dataset está limpo e pronto para análise!\n"
     ]
    }
   ],
   "source": [
    "# Execução do comando final de verificação para confirmar que nosso trabalho foi um sucesso.\n",
    "print(\"Relatório final de dados faltantes:\")\n",
    "print(df_titanic.isnull().sum())\n",
    "print(\"\\nNosso dataset está limpo e pronto para análise!\")"
   ]
  },
  {
   "cell_type": "markdown",
   "id": "53a73bb8-6f28-46c0-b301-932f8b77a774",
   "metadata": {},
   "source": [
    "## Agregação e Insights com .groupby()\n",
    "Iremos dominar o processo \"Split-Apply-Combine\" usando .groupby() para calcular estatísticas agregadas por categoria e extrair insights de negócio."
   ]
  },
  {
   "cell_type": "markdown",
   "id": "164141e0-1171-4ec1-bc97-bfadaca570d5",
   "metadata": {},
   "source": [
    "## O .groupby() executa um processo de três passos, chamado Split-Apply-Combine:\n",
    "1. Split(Dividir): Ele \"fatia\" seu DataFrame em grupos menores com base em uma categoria que definimos.\n",
    "2. Apply(Aplicar): Ele aplica uma função matemática a cada um desses grupos de forma independente.\n",
    "3. Combine(Combinar): Ele junta os resultados de cada grupo em um novo DataFrame, mostrando o resultado da sua agregação para cada categoria."
   ]
  },
  {
   "cell_type": "markdown",
   "id": "4f6b8aef-3f34-4a6a-b035-cd1418db0303",
   "metadata": {},
   "source": [
    "## O .groupby() em ação:"
   ]
  },
  {
   "cell_type": "code",
   "execution_count": 46,
   "id": "b58abdcb-0775-4303-b812-e7c018d6957e",
   "metadata": {},
   "outputs": [
    {
     "name": "stdout",
     "output_type": "stream",
     "text": [
      "Idade média por sexo:\n",
      "Sex\n",
      "female    28.216730\n",
      "male      30.505824\n",
      "Name: Age, dtype: float64\n"
     ]
    }
   ],
   "source": [
    "# Pergunta 1: Qual a idade média dos passageiros por sexo?\n",
    "media_idade_por_sexo = df_titanic.groupby('Sex')['Age'].mean()\n",
    "\n",
    "print(\"Idade média por sexo:\")\n",
    "print(media_idade_por_sexo)"
   ]
  },
  {
   "cell_type": "code",
   "execution_count": 47,
   "id": "75ffb030-f38e-42a2-9b97-69d448e11934",
   "metadata": {},
   "outputs": [
    {
     "name": "stdout",
     "output_type": "stream",
     "text": [
      "\n",
      "Tarifa média por classe:\n",
      "Pclass\n",
      "1    84.154687\n",
      "2    20.662183\n",
      "3    13.675550\n",
      "Name: Fare, dtype: float64\n"
     ]
    }
   ],
   "source": [
    "# Pergunta 2: Qual foi a tarifa (Fare) média paga por cada classe(Pclass)?\n",
    "tarifa_media_por_classe = df_titanic.groupby('Pclass')['Fare'].mean()\n",
    "\n",
    "print(\"\\nTarifa média por classe:\")\n",
    "print(tarifa_media_por_classe)"
   ]
  },
  {
   "cell_type": "markdown",
   "id": "5403188b-df50-45a8-9285-a4ca44cafe3c",
   "metadata": {},
   "source": [
    "## Insight rápido:\n",
    "De acordo com o resultado acima, fica evidente a disparidade social a bordo: Um passageiro da 1° classe pagou, em média, mais de 6 vezes o valor pago por um passageiro da 3° classe."
   ]
  },
  {
   "cell_type": "markdown",
   "id": "7256c23a-a692-493b-aad2-7e28a9a48ed2",
   "metadata": {},
   "source": [
    "## Agregações avançadas e Múltiplos Grupos: \n",
    "Para mais de uma informação por grupo, usaremos .agg()"
   ]
  },
  {
   "cell_type": "code",
   "execution_count": 48,
   "id": "b425e6b3-6f70-4198-a830-aecff46cc8cf",
   "metadata": {},
   "outputs": [
    {
     "name": "stdout",
     "output_type": "stream",
     "text": [
      "Estatísticas de Idade por Classe:\n",
      "             mean   max        std\n",
      "Pclass                            \n",
      "1       37.048118  80.0  14.046369\n",
      "2       29.866958  70.0  13.573825\n",
      "3       26.403259  74.0  10.815245\n"
     ]
    }
   ],
   "source": [
    "## Pergunta 3: Para cada classe, qual foi a idade média, a idade máxima e o desvio padrão?\n",
    "# Passamos uma lista de funções de agregação para o método .agg()\n",
    "stats_por_classe = df_titanic.groupby('Pclass')['Age'].agg(['mean', 'max', 'std'])\n",
    "\n",
    "print(\"Estatísticas de Idade por Classe:\")\n",
    "print(stats_por_classe)"
   ]
  },
  {
   "cell_type": "markdown",
   "id": "8bf7fab5-485d-4f45-9b80-9201a47bcab7",
   "metadata": {},
   "source": [
    "## Análise: agrupar por múltiplas categorias.\n",
    "A Análise Definitiva do Titanic: Qual a taxa de sobrevivência(Survived) por CLASSE e por SEXO?"
   ]
  },
  {
   "cell_type": "code",
   "execution_count": 49,
   "id": "6c200067-2186-4f21-a29f-3db334370654",
   "metadata": {},
   "outputs": [
    {
     "name": "stdout",
     "output_type": "stream",
     "text": [
      "\n",
      "Taxa de Sobrevivência por Classe e Sexo:\n",
      "Pclass  Sex   \n",
      "1       female    0.968085\n",
      "        male      0.368852\n",
      "2       female    0.921053\n",
      "        male      0.157407\n",
      "3       female    0.500000\n",
      "        male      0.135447\n",
      "Name: Survived, dtype: float64\n"
     ]
    }
   ],
   "source": [
    "# Agrupamos por uma lista de colunas: ['Pclass', 'Sex']\n",
    "# Lembre-se: a média da coluna 'Survived' (que é 0 ou 1) nos dá a taxa de sobrevivencia!\n",
    "taxa_sobrevivencia = df_titanic.groupby(['Pclass', 'Sex'])['Survived'].mean()\n",
    "\n",
    "print(\"\\nTaxa de Sobrevivência por Classe e Sexo:\")\n",
    "print(taxa_sobrevivencia)"
   ]
  },
  {
   "cell_type": "markdown",
   "id": "494906d2-e6ed-486d-a4b4-02694da4ec6a",
   "metadata": {},
   "source": [
    "## Este último resultado é a história do Titanic em 8 linhas de dados.\n",
    "Ele mostra, de forma inquestionável: \n",
    "1. Que uma mulher na primeira classe tinha ~96% de chance de sobreviver\n",
    "2. Que um homem na terceira classe tinha apenas ~13% de chance de sobreviver."
   ]
  },
  {
   "cell_type": "code",
   "execution_count": null,
   "id": "584b8cb3-99f3-4b0c-a173-485c2cd2ad21",
   "metadata": {},
   "outputs": [],
   "source": []
  }
 ],
 "metadata": {
  "kernelspec": {
   "display_name": "Python 3 (ipykernel)",
   "language": "python",
   "name": "python3"
  },
  "language_info": {
   "codemirror_mode": {
    "name": "ipython",
    "version": 3
   },
   "file_extension": ".py",
   "mimetype": "text/x-python",
   "name": "python",
   "nbconvert_exporter": "python",
   "pygments_lexer": "ipython3",
   "version": "3.13.5"
  }
 },
 "nbformat": 4,
 "nbformat_minor": 5
}
