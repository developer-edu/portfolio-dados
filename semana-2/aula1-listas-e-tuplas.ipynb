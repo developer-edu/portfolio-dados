{
 "cells": [
  {
   "cell_type": "markdown",
   "id": "b78e926a",
   "metadata": {},
   "source": [
    "# Aula 1: Dominando Listas e Tuplas\n",
    "\n",
    "Criar, manipular e entender quando e por que usar Listas e Tuplas."
   ]
  },
  {
   "cell_type": "markdown",
   "id": "a0926bc9",
   "metadata": {},
   "source": [
    "## O coração dos Dados em Python - As listas\n",
    "\n",
    "Uma lista é uma coleção de itens **ordenada** e **mutável** (pode ser alterada). Vamos começar criando nossa primeira lista."
   ]
  },
  {
   "cell_type": "code",
   "execution_count": 1,
   "id": "62c70089",
   "metadata": {},
   "outputs": [
    {
     "name": "stdout",
     "output_type": "stream",
     "text": [
      "Meus projetos futuros: ['Análise de Condomínio', 'Dashboard de Performance']\n"
     ]
    }
   ],
   "source": [
    "# Criando uma lista\n",
    "projetos = [\"Análise de Condomínio\", \"Dashboard de Performance\"]\n",
    "print(\"Meus projetos futuros:\", projetos)"
   ]
  },
  {
   "cell_type": "markdown",
   "id": "e84bfd71",
   "metadata": {},
   "source": [
    "**Acessando Itens da Lista (Indexação)**\n",
    "\n",
    "Lembre-se: a contagem em Python começa do **zero**. \n",
    "Para pegar o último item, podemos usar o atalho '-1'."
   ]
  },
  {
   "cell_type": "code",
   "execution_count": 3,
   "id": "91b25075",
   "metadata": {},
   "outputs": [
    {
     "name": "stdout",
     "output_type": "stream",
     "text": [
      "O primeiro projeto da lista é: Análise de Condomínio\n",
      "O último projeto da lista é: Dashboard de Performance\n"
     ]
    }
   ],
   "source": [
    "# Acessando o primeiro item\n",
    "# (indice 0)\n",
    "primeiro_projeto = projetos[0]\n",
    "print(\"O primeiro projeto da lista é:\", primeiro_projeto)\n",
    "\n",
    "# Acessando o último item\n",
    "# (indice -1)\n",
    "ultimo_projeto = projetos[-1]\n",
    "print(\"O último projeto da lista é:\", ultimo_projeto)"
   ]
  },
  {
   "cell_type": "markdown",
   "id": "b2b4c667",
   "metadata": {},
   "source": [
    "**Modificando a Lista**\n",
    "\n",
    "Como listas são mutáveis, pódemos alterar um item diretamente pelo seu índice."
   ]
  },
  {
   "cell_type": "code",
   "execution_count": 4,
   "id": "fa4144e0",
   "metadata": {},
   "outputs": [
    {
     "name": "stdout",
     "output_type": "stream",
     "text": [
      "Lista com nome atualizado: ['Análise de Dados do Condomínio', 'Dashboard de Performance']\n"
     ]
    }
   ],
   "source": [
    "# Alterando o primeiro item da lista\n",
    "projetos[0] = \"Análise de Dados do Condomínio\"\n",
    "print(\"Lista com nome atualizado:\", projetos)"
   ]
  },
  {
   "cell_type": "markdown",
   "id": "a9476d89",
   "metadata": {},
   "source": [
    "**Adicionando Itens**\n",
    "\n",
    "- '.append()': adiciona um item ao **final** da lista.\n",
    "- '.insert()': adiciona um item numa **posição específica**."
   ]
  },
  {
   "cell_type": "code",
   "execution_count": 5,
   "id": "a5c2ca4e",
   "metadata": {},
   "outputs": [
    {
     "name": "stdout",
     "output_type": "stream",
     "text": [
      "Lista com novos projetos: ['Análise de Dados do Condomínio', 'Análise SQL Nortwind', 'Dashboard de Performance', 'Projeto Colaborativo com Github']\n"
     ]
    }
   ],
   "source": [
    "# Adicionando um item no final \n",
    "projetos.append(\"Projeto Colaborativo com Github\")\n",
    "\n",
    "# Adicionando um item na posição de indice 2\n",
    "projetos.insert(1, \"Análise SQL Nortwind\")\n",
    "print(\"Lista com novos projetos:\", projetos)"
   ]
  },
  {
   "cell_type": "markdown",
   "id": "b041731f",
   "metadata": {},
   "source": [
    "**Removendo Itens**\n",
    "\n",
    "- '.pop()': remove um item pelo seu **indice**.\n",
    "- '.remove()': remove o primeiro item que tiver um **valor** específico."
   ]
  },
  {
   "cell_type": "code",
   "execution_count": 6,
   "id": "942d36a3",
   "metadata": {},
   "outputs": [
    {
     "name": "stdout",
     "output_type": "stream",
     "text": [
      "Parabéns, você concluiu o projeto: Análise de Dados do Condomínio\n",
      "Projetos restantes: ['Análise SQL Nortwind', 'Dashboard de Performance', 'Projeto Colaborativo com Github']\n",
      "Lista final após remover 'Análise SQL NORTWIND': ['Dashboard de Performance', 'Projeto Colaborativo com Github']\n"
     ]
    }
   ],
   "source": [
    "# Removendo o primeiro item pelo índice\n",
    "\n",
    "projeto_concluido = projetos.pop(0)\n",
    "print(\"Parabéns, você concluiu o projeto:\", projeto_concluido)\n",
    "print(\"Projetos restantes:\", projetos)\n",
    "\n",
    "# Removendo um item pelo valor \n",
    "projetos.remove(\"Análise SQL Nortwind\")\n",
    "print(\"Lista final após remover 'Análise SQL NORTWIND':\", projetos)"
   ]
  }
 ],
 "metadata": {
  "kernelspec": {
   "display_name": "base",
   "language": "python",
   "name": "python3"
  },
  "language_info": {
   "codemirror_mode": {
    "name": "ipython",
    "version": 3
   },
   "file_extension": ".py",
   "mimetype": "text/x-python",
   "name": "python",
   "nbconvert_exporter": "python",
   "pygments_lexer": "ipython3",
   "version": "3.13.5"
  }
 },
 "nbformat": 4,
 "nbformat_minor": 5
}
