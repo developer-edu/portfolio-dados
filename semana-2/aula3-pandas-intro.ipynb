{
 "cells": [
  {
   "cell_type": "markdown",
   "id": "dfc71161-2c0e-475e-adbb-77b7d9c1365d",
   "metadata": {},
   "source": [
    "## Pandas: A ferramenta definitiva do Analista de Dados\n",
    "Entender as 2 estruturas de dados do Pandas: **Series e DataFrame**."
   ]
  },
  {
   "cell_type": "code",
   "execution_count": 2,
   "id": "63eb25d7-680c-419f-b7de-1be551e47569",
   "metadata": {},
   "outputs": [],
   "source": [
    "import pandas as pd\n",
    "import numpy as np # É uma boa prática importar o numpy também, pois eles trabalham juntos.\n"
   ]
  },
  {
   "cell_type": "code",
   "execution_count": 3,
   "id": "b886b8a7-8c1a-404d-8005-dd39548d1f37",
   "metadata": {},
   "outputs": [
    {
     "name": "stdout",
     "output_type": "stream",
     "text": [
      "0     8.5\n",
      "1     9.0\n",
      "2     7.5\n",
      "3    10.0\n",
      "dtype: float64\n"
     ]
    }
   ],
   "source": [
    "# Uma Series de notas de alunos\n",
    "notas = pd.Series([8.5, 9.0, 7.5, 10.0])\n",
    "print(notas)"
   ]
  },
  {
   "cell_type": "code",
   "execution_count": 5,
   "id": "46b2b25b-e493-4457-858f-0211f17647f5",
   "metadata": {},
   "outputs": [
    {
     "name": "stdout",
     "output_type": "stream",
     "text": [
      "Ana         8.5\n",
      "Beto        9.0\n",
      "Carlos      7.5\n",
      "Eduardo    10.0\n",
      "dtype: float64\n"
     ]
    }
   ],
   "source": [
    "# Usando o nome dos alunos como índice\n",
    "notas_com_nome = pd.Series([8.5, 9.0, 7.5, 10.0], index=['Ana','Beto', 'Carlos', 'Eduardo'])\n",
    "print(notas_com_nome)"
   ]
  },
  {
   "cell_type": "code",
   "execution_count": 10,
   "id": "91049b4f-00ab-456b-ac7f-06b66a7bffa0",
   "metadata": {},
   "outputs": [
    {
     "name": "stdout",
     "output_type": "stream",
     "text": [
      "Nota do Eduardo: 10.0\n"
     ]
    }
   ],
   "source": [
    "# Acessando dados pelo índice:\n",
    "print(\"Nota do Eduardo:\", notas_com_nome['Eduardo'])"
   ]
  },
  {
   "cell_type": "markdown",
   "id": "fb44a7e8-d60a-44c1-9012-1f0fa1d4e5e1",
   "metadata": {},
   "source": [
    "## A Estrela Principal: O **DataFrame**\n",
    "Uma estrutura de dados tabular, com duas dimensões(linhas e colunas), onde cada coluna pode ter um tipo diferente."
   ]
  },
  {
   "cell_type": "code",
   "execution_count": 13,
   "id": "ada2fe3f-ea27-409e-a58c-ba90ddb09436",
   "metadata": {},
   "outputs": [
    {
     "data": {
      "text/html": [
       "<div>\n",
       "<style scoped>\n",
       "    .dataframe tbody tr th:only-of-type {\n",
       "        vertical-align: middle;\n",
       "    }\n",
       "\n",
       "    .dataframe tbody tr th {\n",
       "        vertical-align: top;\n",
       "    }\n",
       "\n",
       "    .dataframe thead th {\n",
       "        text-align: right;\n",
       "    }\n",
       "</style>\n",
       "<table border=\"1\" class=\"dataframe\">\n",
       "  <thead>\n",
       "    <tr style=\"text-align: right;\">\n",
       "      <th></th>\n",
       "      <th>Nome</th>\n",
       "      <th>Idade</th>\n",
       "      <th>Cidade</th>\n",
       "    </tr>\n",
       "  </thead>\n",
       "  <tbody>\n",
       "    <tr>\n",
       "      <th>0</th>\n",
       "      <td>Ana</td>\n",
       "      <td>21</td>\n",
       "      <td>São Paulo</td>\n",
       "    </tr>\n",
       "    <tr>\n",
       "      <th>1</th>\n",
       "      <td>Beto</td>\n",
       "      <td>22</td>\n",
       "      <td>Rio de Janeiro</td>\n",
       "    </tr>\n",
       "    <tr>\n",
       "      <th>2</th>\n",
       "      <td>Carlos</td>\n",
       "      <td>21</td>\n",
       "      <td>Belo Horizonte</td>\n",
       "    </tr>\n",
       "    <tr>\n",
       "      <th>3</th>\n",
       "      <td>Eduardo</td>\n",
       "      <td>31</td>\n",
       "      <td>Brasília</td>\n",
       "    </tr>\n",
       "  </tbody>\n",
       "</table>\n",
       "</div>"
      ],
      "text/plain": [
       "      Nome  Idade          Cidade\n",
       "0      Ana     21       São Paulo\n",
       "1     Beto     22  Rio de Janeiro\n",
       "2   Carlos     21  Belo Horizonte\n",
       "3  Eduardo     31        Brasília"
      ]
     },
     "execution_count": 13,
     "metadata": {},
     "output_type": "execute_result"
    }
   ],
   "source": [
    "## Criando um DataFrame a partir de um dicionário\n",
    "dados_alunos = {\n",
    "    'Nome': ['Ana', 'Beto', 'Carlos', 'Eduardo'], \n",
    "    'Idade': [21, 22, 21, 31],\n",
    "    'Cidade': ['São Paulo', 'Rio de Janeiro', 'Belo Horizonte', 'Brasília']\n",
    "}\n",
    "\n",
    "# Criando o DataFrame\n",
    "df_alunos = pd.DataFrame(dados_alunos)\n",
    "\n",
    "# A mágica do Jupyter: ele exibe o DataFrame como uma tabela bonita\n",
    "df_alunos\n"
   ]
  },
  {
   "cell_type": "code",
   "execution_count": 15,
   "id": "9fe24f12-9ac2-4b4f-ac83-8f18623f4ac6",
   "metadata": {},
   "outputs": [],
   "source": [
    "df_titanic = pd.read_csv('Titanic-Dataset.csv')"
   ]
  },
  {
   "cell_type": "code",
   "execution_count": null,
   "id": "4a41aff2-fbd3-47b9-9019-518b1ac141ff",
   "metadata": {},
   "outputs": [],
   "source": []
  }
 ],
 "metadata": {
  "kernelspec": {
   "display_name": "Python 3 (ipykernel)",
   "language": "python",
   "name": "python3"
  },
  "language_info": {
   "codemirror_mode": {
    "name": "ipython",
    "version": 3
   },
   "file_extension": ".py",
   "mimetype": "text/x-python",
   "name": "python",
   "nbconvert_exporter": "python",
   "pygments_lexer": "ipython3",
   "version": "3.13.5"
  }
 },
 "nbformat": 4,
 "nbformat_minor": 5
}
