{
 "cells": [
  {
   "cell_type": "markdown",
   "id": "d13df29a",
   "metadata": {},
   "source": [
    "## Parte 2: Desafio Prático - Gerenciando Notas\n",
    "\n",
    "Vamos aplicar o que aprendemos para gerenciar as notas de um aluno."
   ]
  },
  {
   "cell_type": "code",
   "execution_count": 9,
   "id": "86f93b31",
   "metadata": {},
   "outputs": [
    {
     "name": "stdout",
     "output_type": "stream",
     "text": [
      "Notas atuais: [8.5, 9.0, 7.0]\n",
      "Notas corrigidas: [8.5, 9.0, 7.5]\n",
      "Sua média final é: 8.33\n"
     ]
    }
   ],
   "source": [
    "# Cenário: Gerenciando Notas\n",
    "notas_aluno = []\n",
    "notas_aluno.append(8.5)  # Adicionando nota 1\n",
    "notas_aluno.append(9.0)  # Adicionando nota 2\n",
    "notas_aluno.append(7.0)  # Adicionando nota 3\n",
    "print(\"Notas atuais:\", notas_aluno)\n",
    "\n",
    "# Corrigindo a última nota\n",
    "notas_aluno[-1] = 7.5\n",
    "print(\"Notas corrigidas:\", notas_aluno)\n",
    "\n",
    "# Calculando a média\n",
    "media_final = sum(notas_aluno) / len(notas_aluno)\n",
    "print(f\"Sua média final é: {media_final:.2f}\")"
   ]
  },
  {
   "cell_type": "markdown",
   "id": "927acc8c",
   "metadata": {},
   "source": [
    "## Parte 3: A \"Prima\" Rígida - Introdução ás Tuplas\n",
    "\n",
    "Tuplas são como listas, mas com uma diferença crucial: elas são **IMUTÁVEIS**. Uma vez criadas, não podem ser alteradas. Usamos parênteses '()\"."
   ]
  },
  {
   "cell_type": "code",
   "execution_count": 13,
   "id": "4e39408c",
   "metadata": {},
   "outputs": [
    {
     "name": "stdout",
     "output_type": "stream",
     "text": [
      "coordenadas_casa: (-15.7942, -47.8822)\n",
      "Coordenadas da casa: (-15.7942, -47.8822)\n"
     ]
    }
   ],
   "source": [
    "# Coodenadas de GPS são um bom exemplo de tuplas - eslas não devem mudar\n",
    "coordenadas_casa = (-15.7942, -47.8822) # Latitude, Longitude\n",
    "print(\"coordenadas_casa:\", coordenadas_casa)\n",
    "\n",
    "# A linha abaixo vai causar um TypeError, o que é esperado, pois tuplas são imutáveis\n",
    "# coordenadas_casa[0] = -15.8000  # Tentativa de alterar a tupla (descomente para ver o erro)\n",
    "print(\"Coordenadas da casa:\", coordenadas_casa)"
   ]
  },
  {
   "cell_type": "code",
   "execution_count": null,
   "id": "01a7a488",
   "metadata": {},
   "outputs": [],
   "source": []
  }
 ],
 "metadata": {
  "kernelspec": {
   "display_name": "base",
   "language": "python",
   "name": "python3"
  },
  "language_info": {
   "codemirror_mode": {
    "name": "ipython",
    "version": 3
   },
   "file_extension": ".py",
   "mimetype": "text/x-python",
   "name": "python",
   "nbconvert_exporter": "python",
   "pygments_lexer": "ipython3",
   "version": "3.13.5"
  }
 },
 "nbformat": 4,
 "nbformat_minor": 5
}
